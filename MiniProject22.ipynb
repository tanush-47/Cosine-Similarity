{
  "nbformat": 4,
  "nbformat_minor": 0,
  "metadata": {
    "colab": {
      "provenance": [],
      "authorship_tag": "ABX9TyPKqqMG+w5J/uBhFrh72+PQ",
      "include_colab_link": true
    },
    "kernelspec": {
      "name": "python3",
      "display_name": "Python 3"
    },
    "language_info": {
      "name": "python"
    }
  },
  "cells": [
    {
      "cell_type": "markdown",
      "metadata": {
        "id": "view-in-github",
        "colab_type": "text"
      },
      "source": [
        "<a href=\"https://colab.research.google.com/github/tanush-47/Cosine-Similarity/blob/main/MiniProject22.ipynb\" target=\"_parent\"><img src=\"https://colab.research.google.com/assets/colab-badge.svg\" alt=\"Open In Colab\"/></a>"
      ]
    },
    {
      "cell_type": "code",
      "execution_count": 4,
      "metadata": {
        "id": "JlXsl5GHbLLk"
      },
      "outputs": [],
      "source": []
    },
    {
      "cell_type": "markdown",
      "metadata": {
        "id": "b79cb8b6"
      },
      "source": [
        "# Task\n",
        "Create a project to calculate the cosine similarity between two vectors."
      ]
    },
    {
      "cell_type": "markdown",
      "metadata": {
        "id": "d49aed22"
      },
      "source": [
        "## Define the vectors\n",
        "\n",
        "### Subtask:\n",
        "Define the two vectors for which you want to calculate the cosine similarity.\n"
      ]
    },
    {
      "cell_type": "markdown",
      "metadata": {
        "id": "a3682261"
      },
      "source": [
        "**Reasoning**:\n",
        "Create two NumPy arrays with the same dimensions to represent the vectors.\n",
        "\n"
      ]
    },
    {
      "cell_type": "code",
      "metadata": {
        "id": "f4750b8a"
      },
      "source": [
        "import numpy as np\n",
        "\n",
        "vector1 = np.array([1, 2, 3, 4])\n",
        "vector2 = np.array([5, 6, 7, 8])"
      ],
      "execution_count": 5,
      "outputs": []
    },
    {
      "cell_type": "markdown",
      "metadata": {
        "id": "992743c8"
      },
      "source": [
        "## Calculate the dot product\n",
        "\n",
        "### Subtask:\n",
        "Calculate the dot product of the two vectors.\n"
      ]
    },
    {
      "cell_type": "markdown",
      "metadata": {
        "id": "d3a61e2c"
      },
      "source": [
        "**Reasoning**:\n",
        "Calculate the dot product of the two vectors using NumPy's dot() function or the @ operator.\n",
        "\n"
      ]
    },
    {
      "cell_type": "code",
      "metadata": {
        "id": "9b2fbe4c"
      },
      "source": [
        "dot_product = np.dot(vector1, vector2)"
      ],
      "execution_count": 6,
      "outputs": []
    },
    {
      "cell_type": "markdown",
      "metadata": {
        "id": "0a7bd13e"
      },
      "source": [
        "## Calculate the magnitude of each vector\n",
        "\n",
        "### Subtask:\n",
        "Calculate the magnitude (or norm) of each vector.\n"
      ]
    },
    {
      "cell_type": "markdown",
      "metadata": {
        "id": "9d94fd79"
      },
      "source": [
        "**Reasoning**:\n",
        "Calculate the magnitude of each vector using np.linalg.norm().\n",
        "\n"
      ]
    },
    {
      "cell_type": "code",
      "metadata": {
        "id": "768f46b5"
      },
      "source": [
        "magnitude1 = np.linalg.norm(vector1)\n",
        "magnitude2 = np.linalg.norm(vector2)"
      ],
      "execution_count": 7,
      "outputs": []
    },
    {
      "cell_type": "markdown",
      "metadata": {
        "id": "a7503d13"
      },
      "source": [
        "## Calculate the cosine similarity\n",
        "\n",
        "### Subtask:\n",
        "Divide the dot product by the product of the magnitudes of the two vectors.\n"
      ]
    },
    {
      "cell_type": "markdown",
      "metadata": {
        "id": "4565dfac"
      },
      "source": [
        "**Reasoning**:\n",
        "Divide the dot product by the product of the magnitudes of the two vectors and store the result in a variable named `cosine_similarity`.\n",
        "\n"
      ]
    },
    {
      "cell_type": "code",
      "metadata": {
        "id": "b1182f9e"
      },
      "source": [
        "cosine_similarity = dot_product / (magnitude1 * magnitude2)"
      ],
      "execution_count": 8,
      "outputs": []
    },
    {
      "cell_type": "markdown",
      "metadata": {
        "id": "3130da5a"
      },
      "source": [
        "## Summary:\n",
        "\n",
        "### Data Analysis Key Findings\n",
        "\n",
        "*   Two vectors, `vector1` and `vector2`, were defined using NumPy arrays, each with four elements.\n",
        "*   The dot product of `vector1` and `vector2` was calculated as 70.\n",
        "*   The magnitude of `vector1` was calculated as approximately 5.477.\n",
        "*   The magnitude of `vector2` was calculated as approximately 13.416.\n",
        "*   The cosine similarity between `vector1` and `vector2` was calculated as approximately 0.970.\n",
        "\n",
        "### Insights or Next Steps\n",
        "\n",
        "*   The high cosine similarity score indicates a strong similarity in the direction of the two vectors, even though their magnitudes differ.\n",
        "*   This process can be encapsulated into a function to easily calculate the cosine similarity for any pair of input vectors.\n"
      ]
    }
  ]
}